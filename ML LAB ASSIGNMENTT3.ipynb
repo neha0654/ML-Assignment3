{
 "cells": [
  {
   "cell_type": "code",
   "execution_count": 1,
   "id": "d5edb0fb",
   "metadata": {},
   "outputs": [
    {
     "name": "stdout",
     "output_type": "stream",
     "text": [
      "(16384, 13) (16384, 1)\n"
     ]
    }
   ],
   "source": [
    "import numpy as np\n",
    "from sklearn.model_selection import train_test_split\n",
    "from sklearn.neighbors import KNeighborsClassifier\n",
    "from sklearn.svm import SVC\n",
    "from sklearn.tree import DecisionTreeClassifier\n",
    "from sklearn.metrics import accuracy_score\n",
    "\n",
    "labels=np.load(r\"activation_maps_lines_image52_labelpixel.npy\")\n",
    "features=np.load(r\"activation_maps_lines_image52_pixel.npy\")\n",
    "print(features.shape,labels.shape)"
   ]
  },
  {
   "cell_type": "code",
   "execution_count": 3,
   "id": "5f45cb8a",
   "metadata": {},
   "outputs": [],
   "source": [
    "# Reshape your data into a 2D format (pixels x features)\n",
    "pixels = features.shape[0]   # Total number of pixels\n",
    "feature_pixel = features.shape[1]  # Number of features for each pixel"
   ]
  },
  {
   "cell_type": "code",
   "execution_count": 4,
   "id": "3c866bda",
   "metadata": {},
   "outputs": [
    {
     "name": "stdout",
     "output_type": "stream",
     "text": [
      "(16384, 13) (16384,)\n"
     ]
    }
   ],
   "source": [
    "features_reshaped = features.reshape(pixels, feature_pixel)\n",
    "labels_reshaped = labels.reshape(pixels)  # Assuming y is your pixel-wise label mask\n",
    "print(features_reshaped.shape,labels_reshaped.shape)"
   ]
  },
  {
   "cell_type": "code",
   "execution_count": 5,
   "id": "fd270957",
   "metadata": {},
   "outputs": [],
   "source": [
    "# Split the reshaped data into training and testing sets\n",
    "X_train, X_test, y_train, y_test = train_test_split(features_reshaped, labels_reshaped, test_size=0.2, random_state=42)"
   ]
  },
  {
   "cell_type": "code",
   "execution_count": 11,
   "id": "62f245e7",
   "metadata": {},
   "outputs": [
    {
     "data": {
      "text/plain": [
       "array([[0.00784314, 0.00784314, 0.        , ..., 0.        , 0.        ,\n",
       "        0.0745098 ],\n",
       "       [0.00784314, 0.00784314, 0.        , ..., 0.        , 0.        ,\n",
       "        0.0745098 ],\n",
       "       [0.00392157, 0.00784314, 0.        , ..., 0.        , 0.        ,\n",
       "        0.0745098 ],\n",
       "       ...,\n",
       "       [0.        , 0.        , 0.        , ..., 0.        , 0.00392157,\n",
       "        0.0745098 ],\n",
       "       [0.        , 0.        , 0.        , ..., 0.        , 0.        ,\n",
       "        0.0745098 ],\n",
       "       [0.        , 0.        , 0.        , ..., 0.        , 0.        ,\n",
       "        0.0745098 ]])"
      ]
     },
     "execution_count": 11,
     "metadata": {},
     "output_type": "execute_result"
    }
   ],
   "source": [
    "zero_rows = (labels == 0).any(axis=1)\n",
    "class1 = features[zero_rows]\n",
    "class1"
   ]
  },
  {
   "cell_type": "code",
   "execution_count": 12,
   "id": "34427eba",
   "metadata": {},
   "outputs": [
    {
     "data": {
      "text/plain": [
       "array([[0.00392157, 0.01176471, 0.        , ..., 0.        , 0.        ,\n",
       "        0.0745098 ],\n",
       "       [0.        , 0.01176471, 0.        , ..., 0.        , 0.        ,\n",
       "        0.0745098 ],\n",
       "       [0.        , 0.01176471, 0.        , ..., 0.        , 0.        ,\n",
       "        0.0745098 ],\n",
       "       ...,\n",
       "       [0.        , 0.        , 0.        , ..., 0.        , 0.        ,\n",
       "        0.0745098 ],\n",
       "       [0.        , 0.        , 0.        , ..., 0.        , 0.        ,\n",
       "        0.0745098 ],\n",
       "       [0.        , 0.        , 0.        , ..., 0.        , 0.        ,\n",
       "        0.0745098 ]])"
      ]
     },
     "execution_count": 12,
     "metadata": {},
     "output_type": "execute_result"
    }
   ],
   "source": [
    "one_rows = (labels == 255).any(axis=1)\n",
    "class2 = features[one_rows]\n",
    "class2"
   ]
  },
  {
   "cell_type": "code",
   "execution_count": 15,
   "id": "591cc93e",
   "metadata": {},
   "outputs": [
    {
     "data": {
      "text/plain": [
       "(array([8.11570501e-03, 5.52290421e-03, 3.07575680e-03, 1.68480946e-03,\n",
       "        1.47271767e-03, 7.93853597e-04, 1.38549599e-02, 3.53486312e-04,\n",
       "        4.42922608e-05, 0.00000000e+00, 5.88576004e-04, 2.34237918e-04,\n",
       "        7.44621046e-02]),\n",
       " array([8.09816004e-03, 5.39862952e-03, 3.15045913e-03, 1.75365921e-03,\n",
       "        1.53919843e-03, 8.87617371e-04, 1.85497791e-02, 3.93969207e-04,\n",
       "        6.99047225e-05, 0.00000000e+00, 5.92464098e-04, 2.49844656e-04,\n",
       "        7.44821872e-02]),\n",
       " array([0.01164252, 0.00631803, 0.00514177, 0.0030254 , 0.00216689,\n",
       "        0.00158841, 0.08188406, 0.00112603, 0.00041441, 0.        ,\n",
       "        0.00162988, 0.00096809, 0.00042986]),\n",
       " array([0.01289548, 0.00675134, 0.00542588, 0.00315884, 0.00218254,\n",
       "        0.00166051, 0.09514568, 0.00118032, 0.00051889, 0.        ,\n",
       "        0.00160778, 0.00099929, 0.00032793]))"
      ]
     },
     "execution_count": 15,
     "metadata": {},
     "output_type": "execute_result"
    }
   ],
   "source": [
    "mean1=np.mean(class1,axis=0)\n",
    "mean2=np.mean(class2,axis=0)\n",
    "class1_std=np.std(class1,axis=0)\n",
    "class2_std=np.std(class2,axis=0)\n",
    "mean1,mean2,class1_std,class2_std"
   ]
  },
  {
   "cell_type": "code",
   "execution_count": 16,
   "id": "b833dfd0",
   "metadata": {},
   "outputs": [
    {
     "data": {
      "text/plain": [
       "0.004699315708851366"
      ]
     },
     "execution_count": 16,
     "metadata": {},
     "output_type": "execute_result"
    }
   ],
   "source": [
    "np.linalg.norm(mean1-mean2)"
   ]
  },
  {
   "cell_type": "code",
   "execution_count": 18,
   "id": "b046d08a",
   "metadata": {},
   "outputs": [
    {
     "data": {
      "text/plain": [
       "(array([11,  1,  0,  0,  0,  0,  0,  0,  0,  1], dtype=int64),\n",
       " array([0.        , 0.00745098, 0.01490196, 0.02235294, 0.02980392,\n",
       "        0.0372549 , 0.04470588, 0.05215686, 0.05960784, 0.06705882,\n",
       "        0.0745098 ]))"
      ]
     },
     "execution_count": 18,
     "metadata": {},
     "output_type": "execute_result"
    }
   ],
   "source": [
    "np.histogram(features[:][1])"
   ]
  },
  {
   "cell_type": "code",
   "execution_count": 19,
   "id": "a8c2cecc",
   "metadata": {},
   "outputs": [
    {
     "data": {
      "text/plain": [
       "[0.00392156862745098,\n",
       " 0.00392156862745098,\n",
       " 0.003921568627450981,\n",
       " 0.00392156862745098,\n",
       " 0.0039215686274509795,\n",
       " 0.003921568627450981,\n",
       " 0.003921568627450981,\n",
       " 0.00392156862745098,\n",
       " 0.003921568627450981,\n",
       " 0.0039215686274509795]"
      ]
     },
     "execution_count": 19,
     "metadata": {},
     "output_type": "execute_result"
    }
   ],
   "source": [
    "def minkowski_distance(x, y, r):\n",
    "    d = 0\n",
    "    for i in range(len(x)):\n",
    "        d += abs(x[i] - y[i])**r\n",
    "    return d**(1/r)\n",
    "distance=[minkowski_distance(features[:][0], features[:][1], r) for r in range(1,11)]\n",
    "distance"
   ]
  },
  {
   "cell_type": "code",
   "execution_count": 20,
   "id": "31a6dd00",
   "metadata": {},
   "outputs": [
    {
     "data": {
      "image/png": "[encoded data removed]",
      "text/plain": [
       "<Figure size 640x480 with 1 Axes>"
      ]
     },
     "metadata": {},
     "output_type": "display_data"
    },
    {
     "name": "stdout",
     "output_type": "stream",
     "text": [
      "Mean: 0.005316760493259804\n",
      "Variance: 4.1438383248988045e-05\n"
     ]
    }
   ],
   "source": [
    "import matplotlib.pyplot as plt\n",
    "feature_0 = features[:,1]\n",
    "\n",
    "# Plot a histogram to observe the density pattern\n",
    "plt.hist(feature_0, bins=10, color='blue', edgecolor='black', alpha=0.7)\n",
    "plt.xlabel('Feature Value')\n",
    "plt.ylabel('Frequency')\n",
    "plt.title('Histogram of Feature')\n",
    "plt.show()\n",
    "\n",
    "# Calculate the mean and variance of the feature\n",
    "feature_mean = np.mean(feature_0)\n",
    "feature_variance = np.var(feature_0)\n",
    "\n",
    "print(\"Mean:\", feature_mean)\n",
    "print(\"Variance:\", feature_variance)"
   ]
  },
  {
   "cell_type": "code",
   "execution_count": 21,
   "id": "50b39841",
   "metadata": {},
   "outputs": [
    {
     "name": "stdout",
     "output_type": "stream",
     "text": [
      "              precision    recall  f1-score   support\n",
      "\n",
      "           0       0.31      0.15      0.20       936\n",
      "           1       0.11      0.01      0.01       126\n",
      "         128       0.13      0.03      0.05       376\n",
      "         255       0.56      0.83      0.66      1839\n",
      "\n",
      "    accuracy                           0.51      3277\n",
      "   macro avg       0.28      0.25      0.23      3277\n",
      "weighted avg       0.42      0.51      0.44      3277\n",
      "\n"
     ]
    }
   ],
   "source": [
    "from sklearn.preprocessing import StandardScaler\n",
    "from sklearn.ensemble import RandomForestClassifier\n",
    "from sklearn.metrics import classification_report\n",
    "scaler = StandardScaler()\n",
    "X_train_scaled = scaler.fit_transform(X_train)\n",
    "X_test_scaled = scaler.transform(X_test)\n",
    "model = RandomForestClassifier(random_state=42)\n",
    "model.fit(X_train_scaled, y_train)\n",
    "y_pred = model.predict(X_test_scaled)\n",
    "print(classification_report(y_test, y_pred))"
   ]
  },
  {
   "cell_type": "code",
   "execution_count": 22,
   "id": "dc7ea5f8",
   "metadata": {},
   "outputs": [
    {
     "name": "stdout",
     "output_type": "stream",
     "text": [
      "Accuracy: 0.41959108941104667\n"
     ]
    }
   ],
   "source": [
    "import numpy as np\n",
    "from sklearn.neighbors import KNeighborsClassifier\n",
    "from sklearn.metrics import accuracy_score\n",
    "from sklearn.model_selection import train_test_split\n",
    "\n",
    "X_train, X_test, y_train, y_test = train_test_split(features_reshaped, labels_reshaped, test_size=0.2, random_state=42)\n",
    "neigh = KNeighborsClassifier(n_neighbors=3)\n",
    "neigh.fit(X_train, y_train)\n",
    "y_pred = neigh.predict(X_test)\n",
    "accuracy = accuracy_score(y_test, y_pred)\n",
    "print(\"Accuracy:\",accuracy)"
   ]
  },
  {
   "cell_type": "code",
   "execution_count": 19,
   "id": "9c4cea6a",
   "metadata": {},
   "outputs": [
    {
     "name": "stdout",
     "output_type": "stream",
     "text": [
      "Predicted labels for test set: [255 255 255 ... 128   1   0]\n"
     ]
    }
   ],
   "source": [
    "y_pred = neigh.predict(X_test)\n",
    "print(\"Predicted labels for test set:\", y_pred)"
   ]
  },
  {
   "cell_type": "code",
   "execution_count": 20,
   "id": "06c71158",
   "metadata": {},
   "outputs": [
    {
     "data": {
      "image/png": "[encoded data removed]",
      "text/plain": [
       "<Figure size 1000x600 with 1 Axes>"
      ]
     },
     "metadata": {},
     "output_type": "display_data"
    }
   ],
   "source": [
    "import numpy as np\n",
    "import matplotlib.pyplot as plt\n",
    "from sklearn.neighbors import KNeighborsClassifier\n",
    "from sklearn.metrics import accuracy_score\n",
    "from sklearn.model_selection import train_test_split\n",
    "\n",
    "k_values = [1,2,3,4,5,6,7,8,9,10]\n",
    "\n",
    "knn_accuracies = []\n",
    "nn_accuracies = []\n",
    "\n",
    "for k in k_values:\n",
    "    # Train a k-NN classifier with the current k value (k-NN)\n",
    "    knn_classifier = KNeighborsClassifier(n_neighbors=k)\n",
    "    knn_classifier.fit(X_train, y_train)\n",
    "    knn_y_pred = knn_classifier.predict(X_test)\n",
    "    knn_accuracy = accuracy_score(y_test, knn_y_pred)\n",
    "    knn_accuracies.append(knn_accuracy)\n",
    "\n",
    "    # Train a nearest neighbor classifier (k = 1)\n",
    "    nn_classifier = KNeighborsClassifier(n_neighbors=1)\n",
    "    nn_classifier.fit(X_train, y_train)\n",
    "    nn_y_pred = nn_classifier.predict(X_test)\n",
    "    nn_accuracy = accuracy_score(y_test, nn_y_pred)\n",
    "    nn_accuracies.append(nn_accuracy)\n",
    "\n",
    "# Plot the accuracy results\n",
    "plt.figure(figsize=(10, 6))\n",
    "plt.plot(k_values, knn_accuracies, marker='o', label='k-NN (k = 3)')\n",
    "plt.plot(k_values, nn_accuracies, marker='o', label='Nearest Neighbor (k = 1)')\n",
    "plt.xlabel('k Value')\n",
    "plt.ylabel('Accuracy')\n",
    "plt.title('Accuracy vs. k Value')\n",
    "plt.legend()\n",
    "plt.grid(True)\n",
    "plt.show()\n"
   ]
  },
  {
   "cell_type": "code",
   "execution_count": 21,
   "id": "3435ef63",
   "metadata": {},
   "outputs": [
    {
     "name": "stdout",
     "output_type": "stream",
     "text": [
      "RandomForestClassifier (Train)\n",
      "Accuracy: 0.6554512855725948\n",
      "Confusion Matrix:\n",
      "[[1344    8   54 2262]\n",
      " [  45   94   11  368]\n",
      " [ 155    2  361 1154]\n",
      " [ 366    6   85 6792]]\n",
      "Classification Report:\n",
      "              precision    recall  f1-score   support\n",
      "\n",
      "           0       0.70      0.37      0.48      3668\n",
      "           1       0.85      0.18      0.30       518\n",
      "         128       0.71      0.22      0.33      1672\n",
      "         255       0.64      0.94      0.76      7249\n",
      "\n",
      "    accuracy                           0.66     13107\n",
      "   macro avg       0.73      0.43      0.47     13107\n",
      "weighted avg       0.68      0.66      0.61     13107\n",
      "\n",
      "RandomForestClassifier (Test)\n",
      "Accuracy: 0.5093072932560269\n",
      "Confusion Matrix:\n",
      "[[ 139    1   16  780]\n",
      " [  11    1    4  110]\n",
      " [  37    1   11  327]\n",
      " [ 260    6   55 1518]]\n",
      "Classification Report:\n",
      "              precision    recall  f1-score   support\n",
      "\n",
      "           0       0.31      0.15      0.20       936\n",
      "           1       0.11      0.01      0.01       126\n",
      "         128       0.13      0.03      0.05       376\n",
      "         255       0.56      0.83      0.66      1839\n",
      "\n",
      "    accuracy                           0.51      3277\n",
      "   macro avg       0.28      0.25      0.23      3277\n",
      "weighted avg       0.42      0.51      0.44      3277\n",
      "\n",
      "KNeighborsClassifier (Train)\n",
      "Accuracy: 0.5243762874799726\n",
      "Confusion Matrix:\n",
      "[[1982   21  167 1498]\n",
      " [ 252   46   17  203]\n",
      " [ 692   57  246  677]\n",
      " [2267  101  282 4599]]\n",
      "Classification Report:\n",
      "              precision    recall  f1-score   support\n",
      "\n",
      "           0       0.38      0.54      0.45      3668\n",
      "           1       0.20      0.09      0.12       518\n",
      "         128       0.35      0.15      0.21      1672\n",
      "         255       0.66      0.63      0.65      7249\n",
      "\n",
      "    accuracy                           0.52     13107\n",
      "   macro avg       0.40      0.35      0.36     13107\n",
      "weighted avg       0.52      0.52      0.51     13107\n",
      "\n",
      "KNeighborsClassifier (Test)\n",
      "Accuracy: 0.41959108941104667\n",
      "Confusion Matrix:\n",
      "[[369   8  49 510]\n",
      " [ 60   3   6  57]\n",
      " [143   6  17 210]\n",
      " [711  34 108 986]]\n",
      "Classification Report:\n",
      "              precision    recall  f1-score   support\n",
      "\n",
      "           0       0.29      0.39      0.33       936\n",
      "           1       0.06      0.02      0.03       126\n",
      "         128       0.09      0.05      0.06       376\n",
      "         255       0.56      0.54      0.55      1839\n",
      "\n",
      "    accuracy                           0.42      3277\n",
      "   macro avg       0.25      0.25      0.24      3277\n",
      "weighted avg       0.41      0.42      0.41      3277\n",
      "\n"
     ]
    }
   ],
   "source": [
    "#A9\n",
    "import numpy as np\n",
    "import matplotlib.pyplot as plt\n",
    "from sklearn.model_selection import train_test_split\n",
    "from sklearn.ensemble import RandomForestClassifier\n",
    "from sklearn.neighbors import KNeighborsClassifier\n",
    "from sklearn.metrics import classification_report, confusion_matrix, accuracy_score\n",
    "\n",
    "# Assuming you have X_train, X_test, y_train, and y_test from previous code\n",
    "\n",
    "# Train a RandomForestClassifier\n",
    "rf_classifier = RandomForestClassifier(random_state=42)\n",
    "rf_classifier.fit(X_train, y_train)\n",
    "rf_y_pred_train = rf_classifier.predict(X_train)\n",
    "rf_y_pred_test = rf_classifier.predict(X_test)\n",
    "\n",
    "# Train a KNeighborsClassifier (k = 3)\n",
    "knn_classifier = KNeighborsClassifier(n_neighbors=3)\n",
    "knn_classifier.fit(X_train, y_train)\n",
    "knn_y_pred_train = knn_classifier.predict(X_train)\n",
    "knn_y_pred_test = knn_classifier.predict(X_test)\n",
    "\n",
    "# Function to print metrics\n",
    "def print_metrics(y_true, y_pred, title):\n",
    "    print(title)\n",
    "    print(\"Accuracy:\", accuracy_score(y_true, y_pred))\n",
    "    print(\"Confusion Matrix:\")\n",
    "    print(confusion_matrix(y_true, y_pred))\n",
    "    print(\"Classification Report:\")\n",
    "    print(classification_report(y_true, y_pred))\n",
    "\n",
    "# Evaluate RandomForestClassifier on training and test data\n",
    "print_metrics(y_train, rf_y_pred_train, \"RandomForestClassifier (Train)\")\n",
    "print_metrics(y_test, rf_y_pred_test, \"RandomForestClassifier (Test)\")\n",
    "\n",
    "# Evaluate KNeighborsClassifier (k = 3) on training and test data\n",
    "print_metrics(y_train, knn_y_pred_train, \"KNeighborsClassifier (Train)\")\n",
    "print_metrics(y_test, knn_y_pred_test, \"KNeighborsClassifier (Test)\")\n"
   ]
  }
 ],
 "metadata": {
  "kernelspec": {
   "display_name": "Python 3 (ipykernel)",
   "language": "python",
   "name": "python3"
  },
  "language_info": {
   "codemirror_mode": {
    "name": "ipython",
    "version": 3
   },
   "file_extension": ".py",
   "mimetype": "text/x-python",
   "name": "python",
   "nbconvert_exporter": "python",
   "pygments_lexer": "ipython3",
   "version": "3.11.4"
  }
 },
 "nbformat": 4,
 "nbformat_minor": 5
}
