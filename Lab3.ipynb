{
 "cells": [
  {
   "cell_type": "code",
   "execution_count": 3,
   "id": "14349729",
   "metadata": {
    "scrolled": true
   },
   "outputs": [
    {
     "name": "stdout",
     "output_type": "stream",
     "text": [
      "(16384, 1) (16384, 1)\n",
      "(16384, 1) (16384,)\n"
     ]
    }
   ],
   "source": [
    "import numpy as np\n",
    "from sklearn.model_selection import train_test_split\n",
    "from sklearn.neighbors import KNeighborsClassifier\n",
    "from sklearn.svm import SVC\n",
    "from sklearn.tree import DecisionTreeClassifier\n",
    "from sklearn.metrics import accuracy_score\n",
    "from sklearn.linear_model import LogisticRegression\n",
    "from sklearn.model_selection import train_test_split\n",
    "\n",
    "# Load your features and labels\n",
    "y = np.load(r\"C:\\Users\\neha hothur\\OneDrive\\Desktop\\ML\\Lab3\\activation_maps_lines_image52_labelpixel.npy\")\n",
    "X = np.load(r\"C:\\Users\\neha hothur\\OneDrive\\Desktop\\ML\\Lab3\\activation_maps_lines_image52_labelpixel.npy\")\n",
    "\n",
    "print(X.shape,y.shape)\n",
    "# Reshape your data into a 2D format (pixels x features)\n",
    "num_samples = X.shape[0]   # Total number of pixels\n",
    "num_features = X.shape[1]  # Number of features for each pixel\n",
    "\n",
    "X_reshaped = y.reshape(num_samples, num_features)\n",
    "y_reshaped = y.reshape(num_samples)  # Assuming y is your pixel-wise label mask\n",
    "print(X_reshaped.shape,y_reshaped.shape)\n",
    "\n",
    "\n",
    "# Split the reshaped data into training and testing sets\n",
    "X_train, X_test, y_train, y_test = train_test_split(X_reshaped, y_reshaped, test_size=0.2, random_state=42)"
   ]
  },
  {
   "cell_type": "code",
   "execution_count": null,
   "id": "618fe097",
   "metadata": {},
   "outputs": [],
   "source": []
  }
 ],
 "metadata": {
  "kernelspec": {
   "display_name": "Python 3 (ipykernel)",
   "language": "python",
   "name": "python3"
  },
  "language_info": {
   "codemirror_mode": {
    "name": "ipython",
    "version": 3
   },
   "file_extension": ".py",
   "mimetype": "text/x-python",
   "name": "python",
   "nbconvert_exporter": "python",
   "pygments_lexer": "ipython3",
   "version": "3.11.4"
  }
 },
 "nbformat": 4,
 "nbformat_minor": 5
}
